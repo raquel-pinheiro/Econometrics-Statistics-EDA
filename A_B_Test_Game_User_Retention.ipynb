{
  "nbformat": 4,
  "nbformat_minor": 0,
  "metadata": {
    "colab": {
      "provenance": [],
      "authorship_tag": "ABX9TyNFXt7H/5GADfLSVmOcf0d9"
    },
    "kernelspec": {
      "name": "python3",
      "display_name": "Python 3"
    },
    "language_info": {
      "name": "python"
    }
  },
  "cells": [
    {
      "cell_type": "markdown",
      "source": [
        "# **A/B TEST - GAME VERSION RETENTION**"
      ],
      "metadata": {
        "id": "DpTzEdqBqkH0"
      }
    },
    {
      "cell_type": "code",
      "source": [
        "!pip install -q kagglehub"
      ],
      "metadata": {
        "id": "o0psCxUxVFb2"
      },
      "execution_count": 1,
      "outputs": []
    },
    {
      "cell_type": "code",
      "source": [
        "import kagglehub\n",
        "\n",
        "path = kagglehub.dataset_download(\"mursideyarkin/mobile-games-ab-testing-cookie-cats\")\n",
        "print(\"Path:\", path)"
      ],
      "metadata": {
        "id": "N1L2u87oVIDG"
      },
      "execution_count": null,
      "outputs": []
    },
    {
      "cell_type": "code",
      "source": [
        "import zipfile\n",
        "import pandas as pd\n",
        "from scipy.stats import ttest_ind\n",
        "import os"
      ],
      "metadata": {
        "id": "FM4vgxmpVS4-"
      },
      "execution_count": 3,
      "outputs": []
    },
    {
      "cell_type": "code",
      "source": [
        "csv_file = os.path.join(path, \"cookie_cats.csv\")"
      ],
      "metadata": {
        "id": "m3PIlO7OVW90"
      },
      "execution_count": 4,
      "outputs": []
    },
    {
      "cell_type": "code",
      "source": [
        "df = pd.read_csv(csv_file)\n",
        "print(df.head())"
      ],
      "metadata": {
        "colab": {
          "base_uri": "https://localhost:8080/"
        },
        "id": "q6PpFLEoVazu",
        "outputId": "8fae122d-b11a-440c-d6e2-9bbc0e59db92"
      },
      "execution_count": 5,
      "outputs": [
        {
          "output_type": "stream",
          "name": "stdout",
          "text": [
            "   userid  version  sum_gamerounds  retention_1  retention_7\n",
            "0     116  gate_30               3        False        False\n",
            "1     337  gate_30              38         True        False\n",
            "2     377  gate_40             165         True        False\n",
            "3     483  gate_40               1        False        False\n",
            "4     488  gate_40             179         True         True\n"
          ]
        }
      ]
    },
    {
      "cell_type": "code",
      "source": [
        "print(df.info())"
      ],
      "metadata": {
        "colab": {
          "base_uri": "https://localhost:8080/"
        },
        "id": "t5T6_dGQVeon",
        "outputId": "bbdad2e2-f0af-4eec-8bcc-a9628de9debb"
      },
      "execution_count": 6,
      "outputs": [
        {
          "output_type": "stream",
          "name": "stdout",
          "text": [
            "<class 'pandas.core.frame.DataFrame'>\n",
            "RangeIndex: 90189 entries, 0 to 90188\n",
            "Data columns (total 5 columns):\n",
            " #   Column          Non-Null Count  Dtype \n",
            "---  ------          --------------  ----- \n",
            " 0   userid          90189 non-null  int64 \n",
            " 1   version         90189 non-null  object\n",
            " 2   sum_gamerounds  90189 non-null  int64 \n",
            " 3   retention_1     90189 non-null  bool  \n",
            " 4   retention_7     90189 non-null  bool  \n",
            "dtypes: bool(2), int64(2), object(1)\n",
            "memory usage: 2.2+ MB\n",
            "None\n"
          ]
        }
      ]
    },
    {
      "cell_type": "code",
      "source": [
        "#gate_30\n",
        "grupo_A = df[df[\"version\"] == \"gate_30\"][\"retention_7\"]\n",
        "#gate_40\n",
        "grupo_B = df[df[\"version\"] == \"gate_40\"][\"retention_7\"]"
      ],
      "metadata": {
        "id": "aN2ridLQVhYK"
      },
      "execution_count": 7,
      "outputs": []
    },
    {
      "cell_type": "code",
      "source": [
        "t_stat, p_value = ttest_ind(grupo_A, grupo_B, equal_var=False)"
      ],
      "metadata": {
        "id": "-t_Y63QrVlAX"
      },
      "execution_count": 8,
      "outputs": []
    },
    {
      "cell_type": "code",
      "source": [
        "print(\"\\nA/B Test Results\")\n",
        "print(f\"T-statistic: {t_stat:.4f}\")\n",
        "print(f\"P-value: {p_value:.4f}\")"
      ],
      "metadata": {
        "colab": {
          "base_uri": "https://localhost:8080/"
        },
        "id": "8AdPQxefVoLQ",
        "outputId": "3dc91b11-b822-4d9a-fb21-f90fa2da1cff"
      },
      "execution_count": 9,
      "outputs": [
        {
          "output_type": "stream",
          "name": "stdout",
          "text": [
            "\n",
            "A/B Test Results\n",
            "T-statistic: 3.1640\n",
            "P-value: 0.0016\n"
          ]
        }
      ]
    },
    {
      "cell_type": "code",
      "source": [
        "if p_value < 0.05:\n",
        "    print(\"Statistically significant.\")\n",
        "else:\n",
        "    print(\"Statistically insignificant.\")"
      ],
      "metadata": {
        "colab": {
          "base_uri": "https://localhost:8080/"
        },
        "id": "zGbZGWJTVpnm",
        "outputId": "2d8f6dd0-16b4-4cc6-e849-182d26c94bee"
      },
      "execution_count": 10,
      "outputs": [
        {
          "output_type": "stream",
          "name": "stdout",
          "text": [
            "Statistically significant.\n"
          ]
        }
      ]
    },
    {
      "cell_type": "code",
      "source": [
        "print(\"\\nAverage retention rate by group during 7 days:\")\n",
        "print(df.groupby(\"version\")[\"retention_7\"].mean())"
      ],
      "metadata": {
        "colab": {
          "base_uri": "https://localhost:8080/"
        },
        "id": "_CMnCB1sV2HH",
        "outputId": "b60d73a9-5025-44d4-be45-d8c9135f46c4"
      },
      "execution_count": 13,
      "outputs": [
        {
          "output_type": "stream",
          "name": "stdout",
          "text": [
            "\n",
            "Average retention rate by group during 7 days:\n",
            "version\n",
            "gate_30    0.190201\n",
            "gate_40    0.182000\n",
            "Name: retention_7, dtype: float64\n"
          ]
        }
      ]
    },
    {
      "cell_type": "markdown",
      "source": [
        "Gate_30 retains slightly more players than gate_40.\n",
        "\n",
        "Although the effect is small, it is statistically significant.\n",
        "\n",
        "Depending on the context (number of users, financial impact, implementation cost), it may be worthwhile to adopt gate_30."
      ],
      "metadata": {
        "id": "R2uwLKN_WRjm"
      }
    }
  ]
}